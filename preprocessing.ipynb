{
 "cells": [
  {
   "cell_type": "markdown",
   "id": "ef0b91fa",
   "metadata": {},
   "source": [
    "# Preprocessing\n",
    "\n",
    "## 1. Case Folding(Lower Case)"
   ]
  },
  {
   "cell_type": "code",
   "execution_count": 1,
   "id": "5d518445",
   "metadata": {},
   "outputs": [
    {
     "name": "stdout",
     "output_type": "stream",
     "text": [
      "All Documents are converted to lowercase\n"
     ]
    }
   ],
   "source": [
    "import os\n",
    "files = os.listdir('Abstracts') # Gets all file names from the directory\n",
    "files = sorted(files) #Sorting for simplicity\n",
    "\n",
    "for file in files:\n",
    "    with open('Abstracts/'+file,'r') as f:\n",
    "        data = f.read()\n",
    "        \n",
    "    data = data.lower()\n",
    "\n",
    "    with open('Abstracts/'+file,'w') as f:\n",
    "        f.write(data)\n",
    "\n",
    "print(\"All Documents are converted to lowercase\")"
   ]
  },
  {
   "cell_type": "markdown",
   "id": "fcb6b4df",
   "metadata": {},
   "source": [
    "## 2. Stopword Removal"
   ]
  },
  {
   "cell_type": "code",
   "execution_count": 2,
   "id": "e9e6d65c",
   "metadata": {},
   "outputs": [
    {
     "name": "stdout",
     "output_type": "stream",
     "text": [
      "Stopwords array created!\n",
      "Stopwords removed from all documents!\n"
     ]
    }
   ],
   "source": [
    "stopWords = []\n",
    "\n",
    "with open('Stopword-List.txt','r') as f:\n",
    "    data = f.read()\n",
    "words = data.split('\\n')\n",
    "\n",
    "for word in words:\n",
    "    cleaned = word.strip() #just to remove extra spaces\n",
    "    if cleaned:\n",
    "        stopWords.append(cleaned)\n",
    "\n",
    "print(\"Stopwords array created!\")\n",
    "\n",
    "files = os.listdir('Abstracts')\n",
    "files = sorted(files)\n",
    "for file in files:\n",
    "    with open('Abstracts/'+file,'r') as f:\n",
    "        data = f.read()\n",
    "    \n",
    "    for word in stopWords:\n",
    "        word = ' '+word+' '  \n",
    "        #if i directly remove stop word then this will happen: heurtistic -> heurt tic . Is would be removed so I have added extra spaces around stop word to remove only the stopwords\n",
    "        data = data.replace(word,' ')    \n",
    "    \n",
    "    with open('Abstracts/'+file,'w') as f:\n",
    "        f.write(data)\n",
    "\n",
    "print(\"Stopwords removed from all documents!\")\n"
   ]
  },
  {
   "cell_type": "markdown",
   "id": "3f1c1c54",
   "metadata": {},
   "source": [
    "## 3.Handling Edge case where stopword may be before or after a full stop"
   ]
  },
  {
   "cell_type": "code",
   "execution_count": 3,
   "id": "ab102e27",
   "metadata": {},
   "outputs": [
    {
     "name": "stdout",
     "output_type": "stream",
     "text": [
      "Edge Case Handled!\n"
     ]
    }
   ],
   "source": [
    "#Going to use regex for removing stopwords at boundaries\n",
    "import re\n",
    "\n",
    "for file in files:\n",
    "    with open('Abstracts/'+file,'r') as f:\n",
    "        data = f.read()\n",
    "\n",
    "    for word in stopWords:\n",
    "        pattern = r'\\b' + re.escape(word) + r'\\b'\n",
    "        data = re.sub(pattern,' ',data)\n",
    "\n",
    "    with open('Abstracts/'+file,'w') as f:\n",
    "        f.write(data)\n",
    "\n",
    "print(\"Edge Case Handled!\")"
   ]
  },
  {
   "cell_type": "markdown",
   "id": "bf2baa26",
   "metadata": {},
   "source": [
    "## 4.Removing non alphabetic characters using regex\n"
   ]
  },
  {
   "cell_type": "code",
   "execution_count": 4,
   "id": "e09f9764",
   "metadata": {},
   "outputs": [
    {
     "name": "stdout",
     "output_type": "stream",
     "text": [
      "Punctuations removed from all documents!\n"
     ]
    }
   ],
   "source": [
    "for file in files:\n",
    "    with open('Abstracts/'+file,'r') as f:\n",
    "        data = f.read()\n",
    "    data = re.sub('[^A-Za-z]+',' ',data)\n",
    "    \n",
    "    with open('Abstracts/'+file,'w') as f:\n",
    "        f.write(data)\n",
    "\n",
    "print(\"Punctuations removed from all documents!\")"
   ]
  },
  {
   "cell_type": "markdown",
   "id": "98a058a9",
   "metadata": {},
   "source": [
    "## 5.from nltk.stem.porter import PorterStemmer"
   ]
  },
  {
   "cell_type": "code",
   "execution_count": 5,
   "id": "8d8db03a",
   "metadata": {},
   "outputs": [
    {
     "name": "stdout",
     "output_type": "stream",
     "text": [
      "Lemmatization lemmatized the data the way it was to be lemmatized!\n"
     ]
    }
   ],
   "source": [
    "from nltk.stem import WordNetLemmatizer\n",
    "from nltk.tokenize import word_tokenize\n",
    "\n",
    "lemma = WordNetLemmatizer()\n",
    "files = sorted(os.listdir(\"Abstracts\"))\n",
    "for file in files:\n",
    "    with open('Abstracts/'+file,'r') as f:\n",
    "        data = f.read()\n",
    "        \n",
    "    tokens = word_tokenize(data)\n",
    "    lemmatized_words = []\n",
    "    \n",
    "    for token in tokens:\n",
    "        lemmatized_word = lemma.lemmatize(token)\n",
    "        lemmatized_words.append(lemmatized_word)\n",
    "    processed = ' '.join(lemmatized_words)\n",
    "    \n",
    "    with open('Abstracts/'+file,'w') as f:\n",
    "        f.write(processed)\n",
    "    \n",
    "print(\"Lemmatization lemmatized the data the way it was to be lemmatized!\")\n"
   ]
  }
 ],
 "metadata": {
  "kernelspec": {
   "display_name": "Python 3",
   "language": "python",
   "name": "python3"
  },
  "language_info": {
   "codemirror_mode": {
    "name": "ipython",
    "version": 3
   },
   "file_extension": ".py",
   "mimetype": "text/x-python",
   "name": "python",
   "nbconvert_exporter": "python",
   "pygments_lexer": "ipython3",
   "version": "3.12.3"
  }
 },
 "nbformat": 4,
 "nbformat_minor": 5
}
